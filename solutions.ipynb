{
 "cells": [
  {
   "cell_type": "code",
   "execution_count": 9,
   "metadata": {},
   "outputs": [],
   "source": [
    "import sys\n",
    "sys.path.insert(0, '../python')\n",
    "from auto import bifDiag as bd\n",
    "from matplotlib import pyplot as plt\n",
    "import numpy as np"
   ]
  },
  {
   "cell_type": "code",
   "execution_count": 10,
   "metadata": {
    "scrolled": false
   },
   "outputs": [],
   "source": [
    "# load AUTO data\n",
    "id = \"1\"\n",
    "bname, sname, dname = \"b.\"+id, \"s.\"+id, \"d.\"+id\n",
    "bd = bd.bifDiag(bname,sname)"
   ]
  },
  {
   "cell_type": "code",
   "execution_count": 11,
   "metadata": {},
   "outputs": [],
   "source": [
    "# these are the types and labels for algebraic problems\n",
    "# \"user output point\" is type number -4, so this works for that\n",
    "AUTOtypes = [\"\",\"BP\",\"LP\",\"HB\",\"\",\"\",\"UZ\",\"\",\"\",\"EP\"]\n",
    "NDim = bd[0].c['NDIM']\n",
    "\n",
    "# branches of the solution\n",
    "branches = [ \n",
    "         { \"par\"       : br.coordarray[0,:], \n",
    "           \"L2norm\"    : br.coordarray[1,:],\n",
    "           \"branchnum\" : br.BR\n",
    "         } for br in bd ]\n",
    "\n",
    "# individual solutions\n",
    "sols = [ {  \"u\"         : np.array( s[0]['u'] ),\n",
    "            \"L2norm\"    : np.linalg.norm( s[0]['u'] ),\n",
    "            \"par\"       : s.PAR[0],\n",
    "            \"w\"         : s.PAR[1],\n",
    "            \"a\"         : s.PAR[2],\n",
    "            \"b\"         : s.PAR[3],\n",
    "            \"branchnum\" : s.data['BR'],\n",
    "            \"typenum\"   : s.data['TY number'],\n",
    "            \"type\"      : AUTOtypes[ s.data['TY number'] ],\n",
    "         } for s in bd() ]"
   ]
  },
  {
   "cell_type": "code",
   "execution_count": 12,
   "metadata": {},
   "outputs": [],
   "source": [
    "# plot solution along with place on bifurcation diagram\n",
    "def plotsol(s, index, save=0):\n",
    "    fig, axs = plt.subplots(1, 1)\n",
    "\n",
    "    # solution\n",
    "    sol = s[index]['u']\n",
    "    axs.plot( range(len(sol)), sol  )\n",
    "    axs.scatter( range(len(sol)), sol ) "
   ]
  },
  {
   "cell_type": "code",
   "execution_count": 13,
   "metadata": {},
   "outputs": [
    {
     "data": {
      "image/png": "[encoded data removed]",
      "text/plain": [
       "<Figure size 432x288 with 1 Axes>"
      ]
     },
     "metadata": {
      "needs_background": "light"
     },
     "output_type": "display_data"
    }
   ],
   "source": [
    "plotsol(sols, 1)"
   ]
  },
  {
   "cell_type": "code",
   "execution_count": null,
   "metadata": {},
   "outputs": [],
   "source": []
  }
 ],
 "metadata": {
  "kernelspec": {
   "display_name": "Python 3",
   "language": "python",
   "name": "python3"
  },
  "language_info": {
   "codemirror_mode": {
    "name": "ipython",
    "version": 3
   },
   "file_extension": ".py",
   "mimetype": "text/x-python",
   "name": "python",
   "nbconvert_exporter": "python",
   "pygments_lexer": "ipython3",
   "version": "3.8.5"
  }
 },
 "nbformat": 4,
 "nbformat_minor": 2
}
